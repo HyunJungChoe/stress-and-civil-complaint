{
 "cells": [
  {
   "cell_type": "code",
   "execution_count": 1,
   "metadata": {},
   "outputs": [],
   "source": [
    "import numpy as np\n",
    "import pandas as pd\n",
    "\n",
    "# 시각화\n",
    "import matplotlib.pyplot as plt\n",
    "import seaborn as sns\n",
    "import matplotlib as mpl"
   ]
  },
  {
   "cell_type": "code",
   "execution_count": 2,
   "metadata": {},
   "outputs": [],
   "source": [
    "M_10 = pd.read_csv('../csv2/M_10_YEARLY.csv', encoding='cp949')\n",
    "M_20 = pd.read_csv('../csv2/M_20_YEARLY.csv', encoding='cp949')\n",
    "M_30 = pd.read_csv('../csv2/M_30_YEARLY.csv', encoding='cp949')\n",
    "M_40 = pd.read_csv('../csv2/M_40_YEARLY.csv', encoding='cp949')\n",
    "M_50 = pd.read_csv('../csv2/M_50_YEARLY.csv', encoding='cp949')"
   ]
  },
  {
   "cell_type": "code",
   "execution_count": 3,
   "metadata": {},
   "outputs": [],
   "source": [
    "W_10 = pd.read_csv('../csv2/W_10_YEARLY.csv', encoding='cp949')\n",
    "W_20 = pd.read_csv('../csv2/W_20_YEARLY.csv', encoding='cp949')\n",
    "W_30 = pd.read_csv('../csv2/W_30_YEARLY.csv', encoding='cp949')\n",
    "W_40 = pd.read_csv('../csv2/W_40_YEARLY.csv', encoding='cp949')\n",
    "W_50 = pd.read_csv('../csv2/W_50_YEARLY.csv', encoding='cp949')"
   ]
  },
  {
   "cell_type": "code",
   "execution_count": 4,
   "metadata": {},
   "outputs": [
    {
     "data": {
      "text/html": [
       "<div>\n",
       "<style scoped>\n",
       "    .dataframe tbody tr th:only-of-type {\n",
       "        vertical-align: middle;\n",
       "    }\n",
       "\n",
       "    .dataframe tbody tr th {\n",
       "        vertical-align: top;\n",
       "    }\n",
       "\n",
       "    .dataframe thead th {\n",
       "        text-align: right;\n",
       "    }\n",
       "</style>\n",
       "<table border=\"1\" class=\"dataframe\">\n",
       "  <thead>\n",
       "    <tr style=\"text-align: right;\">\n",
       "      <th>label</th>\n",
       "      <th>20180101</th>\n",
       "      <th>20190101</th>\n",
       "      <th>20200101</th>\n",
       "    </tr>\n",
       "    <tr>\n",
       "      <th>age</th>\n",
       "      <th></th>\n",
       "      <th></th>\n",
       "      <th></th>\n",
       "    </tr>\n",
       "  </thead>\n",
       "  <tbody>\n",
       "    <tr>\n",
       "      <th>10</th>\n",
       "      <td>15687</td>\n",
       "      <td>21103</td>\n",
       "      <td>6015</td>\n",
       "    </tr>\n",
       "  </tbody>\n",
       "</table>\n",
       "</div>"
      ],
      "text/plain": [
       "label  20180101  20190101  20200101\n",
       "age                                \n",
       "10        15687     21103      6015"
      ]
     },
     "execution_count": 4,
     "metadata": {},
     "output_type": "execute_result"
    }
   ],
   "source": [
    "# M_10= pd.DataFrame(...)\n",
    "M_10['age']=10\n",
    "M_10=M_10.pivot(index='age', columns='label', values='hits')\n",
    "M_10"
   ]
  },
  {
   "cell_type": "code",
   "execution_count": 5,
   "metadata": {},
   "outputs": [
    {
     "data": {
      "text/html": [
       "<div>\n",
       "<style scoped>\n",
       "    .dataframe tbody tr th:only-of-type {\n",
       "        vertical-align: middle;\n",
       "    }\n",
       "\n",
       "    .dataframe tbody tr th {\n",
       "        vertical-align: top;\n",
       "    }\n",
       "\n",
       "    .dataframe thead th {\n",
       "        text-align: right;\n",
       "    }\n",
       "</style>\n",
       "<table border=\"1\" class=\"dataframe\">\n",
       "  <thead>\n",
       "    <tr style=\"text-align: right;\">\n",
       "      <th>label</th>\n",
       "      <th>20180101</th>\n",
       "      <th>20190101</th>\n",
       "      <th>20200101</th>\n",
       "    </tr>\n",
       "    <tr>\n",
       "      <th>age</th>\n",
       "      <th></th>\n",
       "      <th></th>\n",
       "      <th></th>\n",
       "    </tr>\n",
       "  </thead>\n",
       "  <tbody>\n",
       "    <tr>\n",
       "      <th>20</th>\n",
       "      <td>209308</td>\n",
       "      <td>266658</td>\n",
       "      <td>125934</td>\n",
       "    </tr>\n",
       "  </tbody>\n",
       "</table>\n",
       "</div>"
      ],
      "text/plain": [
       "label  20180101  20190101  20200101\n",
       "age                                \n",
       "20       209308    266658    125934"
      ]
     },
     "execution_count": 5,
     "metadata": {},
     "output_type": "execute_result"
    }
   ],
   "source": [
    "M_20['age']=20\n",
    "M_20=M_20.pivot(index='age', columns='label', values='hits')\n",
    "M_20"
   ]
  },
  {
   "cell_type": "code",
   "execution_count": 6,
   "metadata": {},
   "outputs": [],
   "source": [
    "M_30['age']= 30\n",
    "M_30=M_30.pivot(index='age', columns='label', values='hits')  #데이터 재구조화 \n",
    "\n",
    "M_40['age']= 40\n",
    "M_40=M_40.pivot(index='age', columns='label', values='hits')\n",
    "\n",
    "M_50['age']= 50\n",
    "M_50=M_50.pivot(index='age', columns='label', values='hits')"
   ]
  },
  {
   "cell_type": "code",
   "execution_count": 7,
   "metadata": {},
   "outputs": [
    {
     "data": {
      "text/html": [
       "<div>\n",
       "<style scoped>\n",
       "    .dataframe tbody tr th:only-of-type {\n",
       "        vertical-align: middle;\n",
       "    }\n",
       "\n",
       "    .dataframe tbody tr th {\n",
       "        vertical-align: top;\n",
       "    }\n",
       "\n",
       "    .dataframe thead th {\n",
       "        text-align: right;\n",
       "    }\n",
       "</style>\n",
       "<table border=\"1\" class=\"dataframe\">\n",
       "  <thead>\n",
       "    <tr style=\"text-align: right;\">\n",
       "      <th></th>\n",
       "      <th>2018</th>\n",
       "      <th>2019</th>\n",
       "      <th>2020</th>\n",
       "    </tr>\n",
       "    <tr>\n",
       "      <th>age</th>\n",
       "      <th></th>\n",
       "      <th></th>\n",
       "      <th></th>\n",
       "    </tr>\n",
       "  </thead>\n",
       "  <tbody>\n",
       "    <tr>\n",
       "      <th>10</th>\n",
       "      <td>15687</td>\n",
       "      <td>21103</td>\n",
       "      <td>6015</td>\n",
       "    </tr>\n",
       "    <tr>\n",
       "      <th>20</th>\n",
       "      <td>209308</td>\n",
       "      <td>266658</td>\n",
       "      <td>125934</td>\n",
       "    </tr>\n",
       "    <tr>\n",
       "      <th>30</th>\n",
       "      <td>570136</td>\n",
       "      <td>1152732</td>\n",
       "      <td>702670</td>\n",
       "    </tr>\n",
       "    <tr>\n",
       "      <th>40</th>\n",
       "      <td>562894</td>\n",
       "      <td>889950</td>\n",
       "      <td>505705</td>\n",
       "    </tr>\n",
       "    <tr>\n",
       "      <th>50</th>\n",
       "      <td>310630</td>\n",
       "      <td>423603</td>\n",
       "      <td>278065</td>\n",
       "    </tr>\n",
       "  </tbody>\n",
       "</table>\n",
       "</div>"
      ],
      "text/plain": [
       "       2018     2019    2020\n",
       "age                         \n",
       "10    15687    21103    6015\n",
       "20   209308   266658  125934\n",
       "30   570136  1152732  702670\n",
       "40   562894   889950  505705\n",
       "50   310630   423603  278065"
      ]
     },
     "execution_count": 7,
     "metadata": {},
     "output_type": "execute_result"
    }
   ],
   "source": [
    "dataM = pd.concat([M_10, M_20, M_30, M_40, M_50], axis=0)\n",
    "dataM.columns=['2018','2019','2020']\n",
    "dataM  # 남자 "
   ]
  },
  {
   "cell_type": "code",
   "execution_count": 8,
   "metadata": {},
   "outputs": [
    {
     "data": {
      "text/html": [
       "<div>\n",
       "<style scoped>\n",
       "    .dataframe tbody tr th:only-of-type {\n",
       "        vertical-align: middle;\n",
       "    }\n",
       "\n",
       "    .dataframe tbody tr th {\n",
       "        vertical-align: top;\n",
       "    }\n",
       "\n",
       "    .dataframe thead th {\n",
       "        text-align: right;\n",
       "    }\n",
       "</style>\n",
       "<table border=\"1\" class=\"dataframe\">\n",
       "  <thead>\n",
       "    <tr style=\"text-align: right;\">\n",
       "      <th></th>\n",
       "      <th>2018</th>\n",
       "      <th>2019</th>\n",
       "      <th>2020</th>\n",
       "    </tr>\n",
       "    <tr>\n",
       "      <th>age</th>\n",
       "      <th></th>\n",
       "      <th></th>\n",
       "      <th></th>\n",
       "    </tr>\n",
       "  </thead>\n",
       "  <tbody>\n",
       "    <tr>\n",
       "      <th>10</th>\n",
       "      <td>19129</td>\n",
       "      <td>12704</td>\n",
       "      <td>2102</td>\n",
       "    </tr>\n",
       "    <tr>\n",
       "      <th>20</th>\n",
       "      <td>172311</td>\n",
       "      <td>178709</td>\n",
       "      <td>54883</td>\n",
       "    </tr>\n",
       "    <tr>\n",
       "      <th>30</th>\n",
       "      <td>510445</td>\n",
       "      <td>981757</td>\n",
       "      <td>437177</td>\n",
       "    </tr>\n",
       "    <tr>\n",
       "      <th>40</th>\n",
       "      <td>342044</td>\n",
       "      <td>713889</td>\n",
       "      <td>382116</td>\n",
       "    </tr>\n",
       "    <tr>\n",
       "      <th>50</th>\n",
       "      <td>194242</td>\n",
       "      <td>290498</td>\n",
       "      <td>271743</td>\n",
       "    </tr>\n",
       "  </tbody>\n",
       "</table>\n",
       "</div>"
      ],
      "text/plain": [
       "       2018    2019    2020\n",
       "age                        \n",
       "10    19129   12704    2102\n",
       "20   172311  178709   54883\n",
       "30   510445  981757  437177\n",
       "40   342044  713889  382116\n",
       "50   194242  290498  271743"
      ]
     },
     "execution_count": 8,
     "metadata": {},
     "output_type": "execute_result"
    }
   ],
   "source": [
    "W_10['age']=10\n",
    "W_10=W_10.pivot(index='age', columns='label', values='hits')  \n",
    "\n",
    "W_20['age']=20\n",
    "W_20=W_20.pivot(index='age', columns='label', values='hits')\n",
    "\n",
    "W_30['age']= 30\n",
    "W_30=W_30.pivot(index='age', columns='label', values='hits') \n",
    "\n",
    "W_40['age']= 40\n",
    "W_40=W_40.pivot(index='age', columns='label', values='hits')\n",
    "\n",
    "W_50['age']= 50\n",
    "W_50=W_50.pivot(index='age', columns='label', values='hits')\n",
    "\n",
    "dataW = pd.concat([W_10, W_20, W_30, W_40, W_50], axis=0)\n",
    "dataW.columns=['2018','2019','2020']\n",
    "dataW  # 여자 "
   ]
  },
  {
   "cell_type": "code",
   "execution_count": 9,
   "metadata": {},
   "outputs": [
    {
     "data": {
      "text/plain": [
       "Text(0.5, 1.0, 'Man')"
      ]
     },
     "execution_count": 9,
     "metadata": {},
     "output_type": "execute_result"
    },
    {
     "data": {
      "image/png": "[encoded data removed]",
      "text/plain": [
       "<Figure size 432x288 with 1 Axes>"
      ]
     },
     "metadata": {
      "needs_background": "light"
     },
     "output_type": "display_data"
    }
   ],
   "source": [
    "dataM.plot.bar()\n",
    "plt.title('Man')\n",
    "# y축은 값이 100000 이상 넘어가서 저렇게 표기됨 "
   ]
  },
  {
   "cell_type": "raw",
   "metadata": {},
   "source": []
  },
  {
   "cell_type": "code",
   "execution_count": 10,
   "metadata": {},
   "outputs": [
    {
     "data": {
      "text/plain": [
       "Text(0.5, 1.0, 'Woman')"
      ]
     },
     "execution_count": 10,
     "metadata": {},
     "output_type": "execute_result"
    },
    {
     "data": {
      "image/png": "[encoded data removed]",
      "text/plain": [
       "<Figure size 432x288 with 1 Axes>"
      ]
     },
     "metadata": {
      "needs_background": "light"
     },
     "output_type": "display_data"
    }
   ],
   "source": [
    "dataW.plot.bar()\n",
    "plt.title('Woman')\n",
    "\n",
    "# dataW.plot.bar().x"
   ]
  },
  {
   "cell_type": "code",
   "execution_count": 11,
   "metadata": {},
   "outputs": [],
   "source": [
    "# 2019년도 30대 월별 결과\n",
    "M_30_2019 = pd.read_csv('../csv2/M_30_MONTHLY.csv', encoding='cp949')\n",
    "W_30_2019 = pd.read_csv('../csv2/W_30_MONTHLY.csv', encoding='cp949')"
   ]
  },
  {
   "cell_type": "code",
   "execution_count": 12,
   "metadata": {},
   "outputs": [
    {
     "data": {
      "text/html": [
       "<div>\n",
       "<style scoped>\n",
       "    .dataframe tbody tr th:only-of-type {\n",
       "        vertical-align: middle;\n",
       "    }\n",
       "\n",
       "    .dataframe tbody tr th {\n",
       "        vertical-align: top;\n",
       "    }\n",
       "\n",
       "    .dataframe thead th {\n",
       "        text-align: right;\n",
       "    }\n",
       "</style>\n",
       "<table border=\"1\" class=\"dataframe\">\n",
       "  <thead>\n",
       "    <tr style=\"text-align: right;\">\n",
       "      <th></th>\n",
       "      <th>hits</th>\n",
       "      <th>label</th>\n",
       "    </tr>\n",
       "  </thead>\n",
       "  <tbody>\n",
       "    <tr>\n",
       "      <th>0</th>\n",
       "      <td>67998</td>\n",
       "      <td>20190101</td>\n",
       "    </tr>\n",
       "    <tr>\n",
       "      <th>1</th>\n",
       "      <td>65284</td>\n",
       "      <td>20190201</td>\n",
       "    </tr>\n",
       "    <tr>\n",
       "      <th>2</th>\n",
       "      <td>65492</td>\n",
       "      <td>20190301</td>\n",
       "    </tr>\n",
       "    <tr>\n",
       "      <th>3</th>\n",
       "      <td>83462</td>\n",
       "      <td>20190401</td>\n",
       "    </tr>\n",
       "    <tr>\n",
       "      <th>4</th>\n",
       "      <td>133628</td>\n",
       "      <td>20190501</td>\n",
       "    </tr>\n",
       "    <tr>\n",
       "      <th>5</th>\n",
       "      <td>173849</td>\n",
       "      <td>20190601</td>\n",
       "    </tr>\n",
       "    <tr>\n",
       "      <th>6</th>\n",
       "      <td>110914</td>\n",
       "      <td>20190701</td>\n",
       "    </tr>\n",
       "    <tr>\n",
       "      <th>7</th>\n",
       "      <td>76746</td>\n",
       "      <td>20190801</td>\n",
       "    </tr>\n",
       "    <tr>\n",
       "      <th>8</th>\n",
       "      <td>90342</td>\n",
       "      <td>20190901</td>\n",
       "    </tr>\n",
       "    <tr>\n",
       "      <th>9</th>\n",
       "      <td>88465</td>\n",
       "      <td>20191001</td>\n",
       "    </tr>\n",
       "    <tr>\n",
       "      <th>10</th>\n",
       "      <td>95025</td>\n",
       "      <td>20191101</td>\n",
       "    </tr>\n",
       "    <tr>\n",
       "      <th>11</th>\n",
       "      <td>97156</td>\n",
       "      <td>20191201</td>\n",
       "    </tr>\n",
       "  </tbody>\n",
       "</table>\n",
       "</div>"
      ],
      "text/plain": [
       "      hits     label\n",
       "0    67998  20190101\n",
       "1    65284  20190201\n",
       "2    65492  20190301\n",
       "3    83462  20190401\n",
       "4   133628  20190501\n",
       "5   173849  20190601\n",
       "6   110914  20190701\n",
       "7    76746  20190801\n",
       "8    90342  20190901\n",
       "9    88465  20191001\n",
       "10   95025  20191101\n",
       "11   97156  20191201"
      ]
     },
     "execution_count": 12,
     "metadata": {},
     "output_type": "execute_result"
    }
   ],
   "source": [
    "M_30_2019"
   ]
  },
  {
   "cell_type": "code",
   "execution_count": 13,
   "metadata": {},
   "outputs": [
    {
     "data": {
      "text/html": [
       "<div>\n",
       "<style scoped>\n",
       "    .dataframe tbody tr th:only-of-type {\n",
       "        vertical-align: middle;\n",
       "    }\n",
       "\n",
       "    .dataframe tbody tr th {\n",
       "        vertical-align: top;\n",
       "    }\n",
       "\n",
       "    .dataframe thead th {\n",
       "        text-align: right;\n",
       "    }\n",
       "</style>\n",
       "<table border=\"1\" class=\"dataframe\">\n",
       "  <thead>\n",
       "    <tr style=\"text-align: right;\">\n",
       "      <th>sex</th>\n",
       "      <th>M</th>\n",
       "    </tr>\n",
       "    <tr>\n",
       "      <th>label</th>\n",
       "      <th></th>\n",
       "    </tr>\n",
       "  </thead>\n",
       "  <tbody>\n",
       "    <tr>\n",
       "      <th>20190101</th>\n",
       "      <td>67998</td>\n",
       "    </tr>\n",
       "    <tr>\n",
       "      <th>20190201</th>\n",
       "      <td>65284</td>\n",
       "    </tr>\n",
       "    <tr>\n",
       "      <th>20190301</th>\n",
       "      <td>65492</td>\n",
       "    </tr>\n",
       "    <tr>\n",
       "      <th>20190401</th>\n",
       "      <td>83462</td>\n",
       "    </tr>\n",
       "    <tr>\n",
       "      <th>20190501</th>\n",
       "      <td>133628</td>\n",
       "    </tr>\n",
       "    <tr>\n",
       "      <th>20190601</th>\n",
       "      <td>173849</td>\n",
       "    </tr>\n",
       "    <tr>\n",
       "      <th>20190701</th>\n",
       "      <td>110914</td>\n",
       "    </tr>\n",
       "    <tr>\n",
       "      <th>20190801</th>\n",
       "      <td>76746</td>\n",
       "    </tr>\n",
       "    <tr>\n",
       "      <th>20190901</th>\n",
       "      <td>90342</td>\n",
       "    </tr>\n",
       "    <tr>\n",
       "      <th>20191001</th>\n",
       "      <td>88465</td>\n",
       "    </tr>\n",
       "    <tr>\n",
       "      <th>20191101</th>\n",
       "      <td>95025</td>\n",
       "    </tr>\n",
       "    <tr>\n",
       "      <th>20191201</th>\n",
       "      <td>97156</td>\n",
       "    </tr>\n",
       "  </tbody>\n",
       "</table>\n",
       "</div>"
      ],
      "text/plain": [
       "sex            M\n",
       "label           \n",
       "20190101   67998\n",
       "20190201   65284\n",
       "20190301   65492\n",
       "20190401   83462\n",
       "20190501  133628\n",
       "20190601  173849\n",
       "20190701  110914\n",
       "20190801   76746\n",
       "20190901   90342\n",
       "20191001   88465\n",
       "20191101   95025\n",
       "20191201   97156"
      ]
     },
     "execution_count": 13,
     "metadata": {},
     "output_type": "execute_result"
    }
   ],
   "source": [
    "M_30_2019['sex']= 'M'\n",
    "M_30_2019=M_30_2019.pivot(index='label', columns='sex', values='hits')\n",
    "M_30_2019"
   ]
  },
  {
   "cell_type": "code",
   "execution_count": 14,
   "metadata": {},
   "outputs": [
    {
     "data": {
      "text/html": [
       "<div>\n",
       "<style scoped>\n",
       "    .dataframe tbody tr th:only-of-type {\n",
       "        vertical-align: middle;\n",
       "    }\n",
       "\n",
       "    .dataframe tbody tr th {\n",
       "        vertical-align: top;\n",
       "    }\n",
       "\n",
       "    .dataframe thead th {\n",
       "        text-align: right;\n",
       "    }\n",
       "</style>\n",
       "<table border=\"1\" class=\"dataframe\">\n",
       "  <thead>\n",
       "    <tr style=\"text-align: right;\">\n",
       "      <th>sex</th>\n",
       "      <th>W</th>\n",
       "    </tr>\n",
       "    <tr>\n",
       "      <th>label</th>\n",
       "      <th></th>\n",
       "    </tr>\n",
       "  </thead>\n",
       "  <tbody>\n",
       "    <tr>\n",
       "      <th>20190101</th>\n",
       "      <td>86632</td>\n",
       "    </tr>\n",
       "    <tr>\n",
       "      <th>20190201</th>\n",
       "      <td>51532</td>\n",
       "    </tr>\n",
       "    <tr>\n",
       "      <th>20190301</th>\n",
       "      <td>56352</td>\n",
       "    </tr>\n",
       "    <tr>\n",
       "      <th>20190401</th>\n",
       "      <td>60964</td>\n",
       "    </tr>\n",
       "    <tr>\n",
       "      <th>20190501</th>\n",
       "      <td>125612</td>\n",
       "    </tr>\n",
       "    <tr>\n",
       "      <th>20190601</th>\n",
       "      <td>143827</td>\n",
       "    </tr>\n",
       "    <tr>\n",
       "      <th>20190701</th>\n",
       "      <td>80557</td>\n",
       "    </tr>\n",
       "    <tr>\n",
       "      <th>20190801</th>\n",
       "      <td>66555</td>\n",
       "    </tr>\n",
       "    <tr>\n",
       "      <th>20190901</th>\n",
       "      <td>74154</td>\n",
       "    </tr>\n",
       "    <tr>\n",
       "      <th>20191001</th>\n",
       "      <td>70279</td>\n",
       "    </tr>\n",
       "    <tr>\n",
       "      <th>20191101</th>\n",
       "      <td>83229</td>\n",
       "    </tr>\n",
       "    <tr>\n",
       "      <th>20191201</th>\n",
       "      <td>77972</td>\n",
       "    </tr>\n",
       "  </tbody>\n",
       "</table>\n",
       "</div>"
      ],
      "text/plain": [
       "sex            W\n",
       "label           \n",
       "20190101   86632\n",
       "20190201   51532\n",
       "20190301   56352\n",
       "20190401   60964\n",
       "20190501  125612\n",
       "20190601  143827\n",
       "20190701   80557\n",
       "20190801   66555\n",
       "20190901   74154\n",
       "20191001   70279\n",
       "20191101   83229\n",
       "20191201   77972"
      ]
     },
     "execution_count": 14,
     "metadata": {},
     "output_type": "execute_result"
    }
   ],
   "source": [
    "W_30_2019['sex']= 'W'\n",
    "W_30_2019=W_30_2019.pivot(index='label', columns='sex', values='hits')  \n",
    "W_30_2019"
   ]
  },
  {
   "cell_type": "code",
   "execution_count": 15,
   "metadata": {},
   "outputs": [
    {
     "data": {
      "text/html": [
       "<div>\n",
       "<style scoped>\n",
       "    .dataframe tbody tr th:only-of-type {\n",
       "        vertical-align: middle;\n",
       "    }\n",
       "\n",
       "    .dataframe tbody tr th {\n",
       "        vertical-align: top;\n",
       "    }\n",
       "\n",
       "    .dataframe thead th {\n",
       "        text-align: right;\n",
       "    }\n",
       "</style>\n",
       "<table border=\"1\" class=\"dataframe\">\n",
       "  <thead>\n",
       "    <tr style=\"text-align: right;\">\n",
       "      <th>sex</th>\n",
       "      <th>M</th>\n",
       "      <th>W</th>\n",
       "    </tr>\n",
       "  </thead>\n",
       "  <tbody>\n",
       "    <tr>\n",
       "      <th>01</th>\n",
       "      <td>67998</td>\n",
       "      <td>86632</td>\n",
       "    </tr>\n",
       "    <tr>\n",
       "      <th>02</th>\n",
       "      <td>65284</td>\n",
       "      <td>51532</td>\n",
       "    </tr>\n",
       "    <tr>\n",
       "      <th>03</th>\n",
       "      <td>65492</td>\n",
       "      <td>56352</td>\n",
       "    </tr>\n",
       "    <tr>\n",
       "      <th>24</th>\n",
       "      <td>83462</td>\n",
       "      <td>60964</td>\n",
       "    </tr>\n",
       "    <tr>\n",
       "      <th>05</th>\n",
       "      <td>133628</td>\n",
       "      <td>125612</td>\n",
       "    </tr>\n",
       "    <tr>\n",
       "      <th>06</th>\n",
       "      <td>173849</td>\n",
       "      <td>143827</td>\n",
       "    </tr>\n",
       "    <tr>\n",
       "      <th>07</th>\n",
       "      <td>110914</td>\n",
       "      <td>80557</td>\n",
       "    </tr>\n",
       "    <tr>\n",
       "      <th>08</th>\n",
       "      <td>76746</td>\n",
       "      <td>66555</td>\n",
       "    </tr>\n",
       "    <tr>\n",
       "      <th>09</th>\n",
       "      <td>90342</td>\n",
       "      <td>74154</td>\n",
       "    </tr>\n",
       "    <tr>\n",
       "      <th>10</th>\n",
       "      <td>88465</td>\n",
       "      <td>70279</td>\n",
       "    </tr>\n",
       "    <tr>\n",
       "      <th>11</th>\n",
       "      <td>95025</td>\n",
       "      <td>83229</td>\n",
       "    </tr>\n",
       "    <tr>\n",
       "      <th>12</th>\n",
       "      <td>97156</td>\n",
       "      <td>77972</td>\n",
       "    </tr>\n",
       "  </tbody>\n",
       "</table>\n",
       "</div>"
      ],
      "text/plain": [
       "sex       M       W\n",
       "01    67998   86632\n",
       "02    65284   51532\n",
       "03    65492   56352\n",
       "24    83462   60964\n",
       "05   133628  125612\n",
       "06   173849  143827\n",
       "07   110914   80557\n",
       "08    76746   66555\n",
       "09    90342   74154\n",
       "10    88465   70279\n",
       "11    95025   83229\n",
       "12    97156   77972"
      ]
     },
     "execution_count": 15,
     "metadata": {},
     "output_type": "execute_result"
    }
   ],
   "source": [
    "data2019 = pd.concat([M_30_2019, W_30_2019], axis=1)\n",
    "data2019.index= ['01','02','03','24','05','06','07','08','09','10','11','12']\n",
    "data2019"
   ]
  },
  {
   "cell_type": "code",
   "execution_count": 16,
   "metadata": {},
   "outputs": [
    {
     "data": {
      "text/plain": [
       "Text(0.5, 1.0, '2019_30_MONTHLY')"
      ]
     },
     "execution_count": 16,
     "metadata": {},
     "output_type": "execute_result"
    },
    {
     "data": {
      "image/png": "[encoded data removed]",
      "text/plain": [
       "<Figure size 432x288 with 1 Axes>"
      ]
     },
     "metadata": {
      "needs_background": "light"
     },
     "output_type": "display_data"
    }
   ],
   "source": [
    "data2019.plot.bar()\n",
    "plt.title('2019_30_MONTHLY')"
   ]
  },
  {
   "cell_type": "code",
   "execution_count": 22,
   "metadata": {},
   "outputs": [
    {
     "data": {
      "text/plain": [
       "1618389"
      ]
     },
     "execution_count": 22,
     "metadata": {},
     "output_type": "execute_result"
    }
   ],
   "source": [
    "# 2020년 남자 총 민원 건수 \n",
    "sumM=sum(dataM['2020'])\n",
    "sumM"
   ]
  },
  {
   "cell_type": "code",
   "execution_count": 25,
   "metadata": {},
   "outputs": [
    {
     "data": {
      "text/plain": [
       "1148021"
      ]
     },
     "execution_count": 25,
     "metadata": {},
     "output_type": "execute_result"
    }
   ],
   "source": [
    "# 2020년 여자 총 민원 건수 \n",
    "sumW=sum(dataW['2020'])\n",
    "sumW"
   ]
  },
  {
   "cell_type": "code",
   "execution_count": 26,
   "metadata": {},
   "outputs": [
    {
     "data": {
      "text/plain": [
       "6041090"
      ]
     },
     "execution_count": 26,
     "metadata": {},
     "output_type": "execute_result"
    }
   ],
   "source": [
    "# 2018~2020 남자 총 민원 건수 \n",
    "sumM3 = sum(dataM['2020'])+sum(dataM['2019'])+sum(dataM['2018'])\n",
    "sumM3"
   ]
  },
  {
   "cell_type": "code",
   "execution_count": 28,
   "metadata": {},
   "outputs": [
    {
     "data": {
      "text/plain": [
       "4563749"
      ]
     },
     "execution_count": 28,
     "metadata": {},
     "output_type": "execute_result"
    }
   ],
   "source": [
    "# 2018~2020 여자 총 민원 건수 \n",
    "sumW3 = sum(dataW['2020'])+sum(dataW['2019'])+sum(dataW['2018'])\n",
    "sumW3"
   ]
  },
  {
   "cell_type": "code",
   "execution_count": null,
   "metadata": {},
   "outputs": [],
   "source": []
  }
 ],
 "metadata": {
  "kernelspec": {
   "display_name": "Python 3",
   "language": "python",
   "name": "python3"
  },
  "language_info": {
   "codemirror_mode": {
    "name": "ipython",
    "version": 3
   },
   "file_extension": ".py",
   "mimetype": "text/x-python",
   "name": "python",
   "nbconvert_exporter": "python",
   "pygments_lexer": "ipython3",
   "version": "3.8.3"
  }
 },
 "nbformat": 4,
 "nbformat_minor": 4
}
